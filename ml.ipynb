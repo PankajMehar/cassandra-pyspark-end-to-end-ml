{
 "cells": [
  {
   "cell_type": "code",
   "execution_count": 87,
   "metadata": {
    "collapsed": true,
    "scrolled": true
   },
   "outputs": [],
   "source": [
    "import json\n",
    "import time\n",
    "import pytz\n",
    "import traceback\n",
    "import time_uuid\n",
    "from pytz import timezone\n",
    "from datetime import datetime\n",
    "from pyspark.sql import types\n",
    "from pyspark.sql.types import *\n",
    "from pyspark.sql.functions import *\n",
    "from pyspark.sql import SQLContext, Row\n",
    "from pyspark import SparkContext, SparkConf\n",
    "from config import *"
   ]
  },
  {
   "cell_type": "code",
   "execution_count": 88,
   "metadata": {
    "collapsed": false,
    "scrolled": true
   },
   "outputs": [],
   "source": [
    "import warnings\n",
    "import matplotlib\n",
    "warnings.filterwarnings('ignore')\n",
    "\n",
    "%matplotlib inline\n",
    "import pandas as pd"
   ]
  },
  {
   "cell_type": "code",
   "execution_count": 89,
   "metadata": {
    "collapsed": true,
    "scrolled": true
   },
   "outputs": [],
   "source": [
    "sc.stop()"
   ]
  },
  {
   "cell_type": "markdown",
   "metadata": {},
   "source": [
    "### Connecting to Cassandra and loading data into Pyspark's Dataframes"
   ]
  },
  {
   "cell_type": "code",
   "execution_count": 90,
   "metadata": {
    "collapsed": true,
    "scrolled": true
   },
   "outputs": [],
   "source": [
    "conf = SparkConf()\\\n",
    "    .setAppName(APPNAME)\\\n",
    "    .setMaster(MASTER)\\\n",
    "    .set(\"spark.cassandra.connection.host\", CASSANDRA_HOST)\\\n",
    "    .set(\"spark.cassandra.connection.port\", CASSANDRA_PORT)\\\n",
    "    .set(\"spark.cassandra.auth.username\", CASSANDRA_USERNAME)\\\n",
    "    .set(\"spark.cassandra.auth.password\", CASSANDRA_PASSWORD)"
   ]
  },
  {
   "cell_type": "code",
   "execution_count": 91,
   "metadata": {
    "collapsed": false,
    "scrolled": true
   },
   "outputs": [
    {
     "data": {
      "text/plain": [
       "DataFrame[]"
      ]
     },
     "execution_count": 91,
     "metadata": {},
     "output_type": "execute_result"
    }
   ],
   "source": [
    "sc = SparkContext(MASTER, APPNAME, conf=conf)\n",
    "sqlContext = SQLContext(sc)\n",
    "sqlContext.sql(\"\"\"CREATE TEMPORARY TABLE %s \\\n",
    "                  USING org.apache.spark.sql.cassandra \\\n",
    "                  OPTIONS ( table \"%s\", \\\n",
    "                            keyspace \"%s\", \\\n",
    "                            cluster \"Test Cluster\", \\\n",
    "                            pushdown \"true\") \\\n",
    "              \"\"\" % (TABLE_QUERYABLE, TABLE_QUERYABLE, KEYSPACE))"
   ]
  },
  {
   "cell_type": "code",
   "execution_count": 92,
   "metadata": {
    "collapsed": false,
    "scrolled": true
   },
   "outputs": [
    {
     "name": "stdout",
     "output_type": "stream",
     "text": [
      "root\n",
      " |-- bucket_id: string (nullable = true)\n",
      " |-- unix_timestamp: long (nullable = true)\n",
      " |-- age: integer (nullable = true)\n",
      " |-- city: string (nullable = true)\n",
      " |-- created_at: timestamp (nullable = true)\n",
      " |-- email: string (nullable = true)\n",
      " |-- event_id: string (nullable = true)\n",
      " |-- event_name: string (nullable = true)\n",
      " |-- gender: string (nullable = true)\n",
      " |-- job: string (nullable = true)\n",
      " |-- name: string (nullable = true)\n",
      " |-- zipcode: string (nullable = true)\n",
      "\n"
     ]
    }
   ],
   "source": [
    "query = \"SELECT * FROM %s\" % (TABLE_QUERYABLE)\n",
    "df_payload = sqlContext.sql(query)\n",
    "df_payload.cache()\n",
    "df_payload.printSchema()"
   ]
  },
  {
   "cell_type": "markdown",
   "metadata": {},
   "source": [
    "### Schema of Data"
   ]
  },
  {
   "cell_type": "code",
   "execution_count": 93,
   "metadata": {
    "collapsed": false,
    "scrolled": true
   },
   "outputs": [
    {
     "data": {
      "text/html": [
       "<div>\n",
       "<table border=\"1\" class=\"dataframe\">\n",
       "  <thead>\n",
       "    <tr style=\"text-align: right;\">\n",
       "      <th></th>\n",
       "      <th>0</th>\n",
       "      <th>1</th>\n",
       "      <th>2</th>\n",
       "    </tr>\n",
       "  </thead>\n",
       "  <tbody>\n",
       "    <tr>\n",
       "      <th>bucket_id</th>\n",
       "      <td>2000-11-27</td>\n",
       "      <td>2000-11-27</td>\n",
       "      <td>2000-11-27</td>\n",
       "    </tr>\n",
       "    <tr>\n",
       "      <th>unix_timestamp</th>\n",
       "      <td>148917251752308992</td>\n",
       "      <td>148917249744547104</td>\n",
       "      <td>148917242569626400</td>\n",
       "    </tr>\n",
       "    <tr>\n",
       "      <th>age</th>\n",
       "      <td>43</td>\n",
       "      <td>58</td>\n",
       "      <td>40</td>\n",
       "    </tr>\n",
       "    <tr>\n",
       "      <th>city</th>\n",
       "      <td>Port Shellyshire</td>\n",
       "      <td>Starkfurt</td>\n",
       "      <td>North Alexandermouth</td>\n",
       "    </tr>\n",
       "    <tr>\n",
       "      <th>created_at</th>\n",
       "      <td>2014-08-12 08:52:52</td>\n",
       "      <td>2016-02-13 07:04:53</td>\n",
       "      <td>2016-07-24 04:43:03</td>\n",
       "    </tr>\n",
       "    <tr>\n",
       "      <th>email</th>\n",
       "      <td>bryantjill@yahoo.com</td>\n",
       "      <td>amandawilson@williams.com</td>\n",
       "      <td>igreene@yahoo.com</td>\n",
       "    </tr>\n",
       "    <tr>\n",
       "      <th>event_id</th>\n",
       "      <td>08aad1b4-05c4-11e7-bb33-acbc32780117</td>\n",
       "      <td>fcb337b6-05c3-11e7-ae50-acbc32780117</td>\n",
       "      <td>d1ef2850-05c3-11e7-bcef-acbc32780117</td>\n",
       "    </tr>\n",
       "    <tr>\n",
       "      <th>event_name</th>\n",
       "      <td>EventName6619</td>\n",
       "      <td>EventName6649</td>\n",
       "      <td>EventName6921</td>\n",
       "    </tr>\n",
       "    <tr>\n",
       "      <th>gender</th>\n",
       "      <td>M</td>\n",
       "      <td>F</td>\n",
       "      <td>F</td>\n",
       "    </tr>\n",
       "    <tr>\n",
       "      <th>job</th>\n",
       "      <td>Engineer, civil (consulting)</td>\n",
       "      <td>Corporate investment banker</td>\n",
       "      <td>Environmental manager</td>\n",
       "    </tr>\n",
       "    <tr>\n",
       "      <th>name</th>\n",
       "      <td>Sheryl Ford</td>\n",
       "      <td>Joseph Mcintosh</td>\n",
       "      <td>Christian Drake</td>\n",
       "    </tr>\n",
       "    <tr>\n",
       "      <th>zipcode</th>\n",
       "      <td>50226</td>\n",
       "      <td>04382</td>\n",
       "      <td>65622</td>\n",
       "    </tr>\n",
       "  </tbody>\n",
       "</table>\n",
       "</div>"
      ],
      "text/plain": [
       "                                                   0  \\\n",
       "bucket_id                                 2000-11-27   \n",
       "unix_timestamp                    148917251752308992   \n",
       "age                                               43   \n",
       "city                                Port Shellyshire   \n",
       "created_at                       2014-08-12 08:52:52   \n",
       "email                           bryantjill@yahoo.com   \n",
       "event_id        08aad1b4-05c4-11e7-bb33-acbc32780117   \n",
       "event_name                             EventName6619   \n",
       "gender                                             M   \n",
       "job                     Engineer, civil (consulting)   \n",
       "name                                     Sheryl Ford   \n",
       "zipcode                                        50226   \n",
       "\n",
       "                                                   1  \\\n",
       "bucket_id                                 2000-11-27   \n",
       "unix_timestamp                    148917249744547104   \n",
       "age                                               58   \n",
       "city                                       Starkfurt   \n",
       "created_at                       2016-02-13 07:04:53   \n",
       "email                      amandawilson@williams.com   \n",
       "event_id        fcb337b6-05c3-11e7-ae50-acbc32780117   \n",
       "event_name                             EventName6649   \n",
       "gender                                             F   \n",
       "job                      Corporate investment banker   \n",
       "name                                 Joseph Mcintosh   \n",
       "zipcode                                        04382   \n",
       "\n",
       "                                                   2  \n",
       "bucket_id                                 2000-11-27  \n",
       "unix_timestamp                    148917242569626400  \n",
       "age                                               40  \n",
       "city                            North Alexandermouth  \n",
       "created_at                       2016-07-24 04:43:03  \n",
       "email                              igreene@yahoo.com  \n",
       "event_id        d1ef2850-05c3-11e7-bcef-acbc32780117  \n",
       "event_name                             EventName6921  \n",
       "gender                                             F  \n",
       "job                            Environmental manager  \n",
       "name                                 Christian Drake  \n",
       "zipcode                                        65622  "
      ]
     },
     "execution_count": 93,
     "metadata": {},
     "output_type": "execute_result"
    }
   ],
   "source": [
    "pd.DataFrame(df_payload.take(3), columns=df_payload.columns).transpose()"
   ]
  },
  {
   "cell_type": "markdown",
   "metadata": {},
   "source": [
    "### Doing some basic analysis for demonstration purpose"
   ]
  },
  {
   "cell_type": "code",
   "execution_count": 94,
   "metadata": {
    "collapsed": false,
    "scrolled": true
   },
   "outputs": [],
   "source": [
    "numeric_features = [t[0] for t in df_payload.dtypes if t[1] == 'int' or t[1] == 'double']"
   ]
  },
  {
   "cell_type": "code",
   "execution_count": 95,
   "metadata": {
    "collapsed": false,
    "scrolled": true
   },
   "outputs": [],
   "source": [
    "sampled_data = df_payload.select(numeric_features).sample(False, 0.10).toPandas()"
   ]
  },
  {
   "cell_type": "markdown",
   "metadata": {},
   "source": [
    "### Distribution of Age across all the data inside Cassandra"
   ]
  },
  {
   "cell_type": "code",
   "execution_count": 96,
   "metadata": {
    "collapsed": false,
    "scrolled": true
   },
   "outputs": [
    {
     "data": {
      "image/png": "[encoded data removed]",
      "text/plain": [
       "<matplotlib.figure.Figure at 0x108e55090>"
      ]
     },
     "metadata": {},
     "output_type": "display_data"
    }
   ],
   "source": [
    "axs = pd.scatter_matrix(sampled_data, figsize=(12, 5));"
   ]
  },
  {
   "cell_type": "markdown",
   "metadata": {},
   "source": [
    "## Creating a Random Forest Machine Learning Model on the Cassandra Data"
   ]
  },
  {
   "cell_type": "code",
   "execution_count": 100,
   "metadata": {
    "collapsed": true
   },
   "outputs": [],
   "source": [
    "from pyspark.ml import Pipeline\n",
    "from pyspark.ml.classification import RandomForestClassifier as RF\n",
    "from pyspark.ml.feature import StringIndexer, VectorIndexer, VectorAssembler, SQLTransformer\n",
    "from pyspark.ml.evaluation import MulticlassClassificationEvaluator, BinaryClassificationEvaluator\n",
    "from pyspark.ml.tuning import CrossValidator, ParamGridBuilder\n",
    "import numpy as np\n",
    "import random\n",
    "import functools\n",
    "from pyspark.ml.feature import OneHotEncoder"
   ]
  },
  {
   "cell_type": "markdown",
   "metadata": {},
   "source": [
    "#### Loading data from Cassandra "
   ]
  },
  {
   "cell_type": "code",
   "execution_count": 101,
   "metadata": {
    "collapsed": false
   },
   "outputs": [
    {
     "data": {
      "text/plain": [
       "[('bucket_id', 'string'),\n",
       " ('unix_timestamp', 'bigint'),\n",
       " ('age', 'int'),\n",
       " ('city', 'string'),\n",
       " ('created_at', 'timestamp'),\n",
       " ('email', 'string'),\n",
       " ('event_id', 'string'),\n",
       " ('event_name', 'string'),\n",
       " ('gender', 'string'),\n",
       " ('job', 'string'),\n",
       " ('name', 'string'),\n",
       " ('zipcode', 'string')]"
      ]
     },
     "execution_count": 101,
     "metadata": {},
     "output_type": "execute_result"
    }
   ],
   "source": [
    "tableData = sqlContext.sql(\"SELECT * FROM %s\" % (TABLE_QUERYABLE))\n",
    "tableData.dtypes"
   ]
  },
  {
   "cell_type": "code",
   "execution_count": 102,
   "metadata": {
    "collapsed": false
   },
   "outputs": [
    {
     "name": "stdout",
     "output_type": "stream",
     "text": [
      "+---+--------------+--------------------------+------+------------------------+-------+\n",
      "|age|city          |email                     |gender|job                     |zipcode|\n",
      "+---+--------------+--------------------------+------+------------------------+-------+\n",
      "|60 |Zacharyborough|msingleton@green-myers.com|M     |Veterinary surgeon      |25009  |\n",
      "|60 |Torreschester |robert38@gmail.com        |M     |Dancer                  |85770  |\n",
      "|20 |Kevinport     |janet94@bennett.net       |F     |Risk analyst            |32970  |\n",
      "|51 |Zacharyview   |powelljames@osborne.info  |M     |Journalist, broadcasting|67384  |\n",
      "|32 |Lunaside      |cookerika@sandoval.com    |F     |Geologist, engineering  |58001  |\n",
      "+---+--------------+--------------------------+------+------------------------+-------+\n",
      "only showing top 5 rows\n",
      "\n"
     ]
    }
   ],
   "source": [
    "cols_select = ['age', 'city', 'email', 'gender', 'job', 'zipcode']\n",
    "df = tableData.select(cols_select).dropDuplicates()\n",
    "df.show(5, False)"
   ]
  },
  {
   "cell_type": "markdown",
   "metadata": {},
   "source": [
    "#### Adding user behavior (POSITIVE, NOT-POSITIVE) randomly as our data is randomly generated"
   ]
  },
  {
   "cell_type": "code",
   "execution_count": 103,
   "metadata": {
    "collapsed": false
   },
   "outputs": [],
   "source": [
    "def func(d):\n",
    "    p = {}\n",
    "    for x in d:\n",
    "        p['age'] = d.age\n",
    "        p['city'] = d.city\n",
    "        p['email'] = d.email\n",
    "        p['gender'] = d.gender\n",
    "        p['job'] = d.job\n",
    "        p['zipcode'] = d.zipcode\n",
    "    p['behaviour'] = str(random.choice(['POSITIVE', 'NEGATIVE']))\n",
    "    return p\n",
    "\n",
    "features = df.map(lambda x: func(x))"
   ]
  },
  {
   "cell_type": "code",
   "execution_count": 104,
   "metadata": {
    "collapsed": false
   },
   "outputs": [
    {
     "name": "stdout",
     "output_type": "stream",
     "text": [
      "+---+---------+-----------------+--------------------+------+--------------------+-------+\n",
      "|age|behaviour|             city|               email|gender|                 job|zipcode|\n",
      "+---+---------+-----------------+--------------------+------+--------------------+-------+\n",
      "| 60| POSITIVE|   Zacharyborough|msingleton@green-...|     M|  Veterinary surgeon|  25009|\n",
      "| 60| POSITIVE|    Torreschester|  robert38@gmail.com|     M|              Dancer|  85770|\n",
      "| 20| POSITIVE|        Kevinport| janet94@bennett.net|     F|        Risk analyst|  32970|\n",
      "| 51| NEGATIVE|      Zacharyview|powelljames@osbor...|     M|Journalist, broad...|  67384|\n",
      "| 32| POSITIVE|         Lunaside|cookerika@sandova...|     F|Geologist, engine...|  58001|\n",
      "| 29| NEGATIVE|         Riceberg| diazterri@yahoo.com|     F|Architectural tec...|  53955|\n",
      "| 56| NEGATIVE|     North Sandra|vjimenez@hotmail.com|     F|Historic building...|  11325|\n",
      "| 53| POSITIVE|          New Amy|jeffreyarmstrong@...|     F|     Publishing copy|  20437|\n",
      "| 55| POSITIVE|    West Kimberly| banderson@yahoo.com|     M| Biomedical engineer|  10716|\n",
      "| 47| POSITIVE|      Lake Joshua|kmorris@carpenter...|     M|   Designer, textile|  62181|\n",
      "| 51| NEGATIVE|       Josephport|ahicks@mason-hami...|     F| Retail merchandiser|  89962|\n",
      "| 57| NEGATIVE|        Chadhaven|patrickbrown@hens...|     F|           Barrister|  99455|\n",
      "| 40| NEGATIVE|East Keithchester| derek74@hotmail.com|     F|Adult guidance wo...|  04364|\n",
      "| 20| NEGATIVE|        Paulmouth|falvarez@chang-pe...|     F|Development worke...|  46015|\n",
      "| 57| POSITIVE|      Lisachester|  kylesims@gmail.com|     F|Applications deve...|  21143|\n",
      "| 39| NEGATIVE|  Port Sandraport|coxdrew@hunt-kram...|     M|   Recycling officer|  12975|\n",
      "| 26| NEGATIVE|     North Sandra|jeffrey52@thompso...|     M|Scientist, water ...|  93088|\n",
      "| 30| NEGATIVE|       Hansenfurt|joelmarquez@yahoo...|     M|          Air broker|  19734|\n",
      "| 25| POSITIVE|      South Sheri| zachary89@yahoo.com|     F|Teacher, special ...|  45364|\n",
      "| 52| NEGATIVE|       Carterstad|jeffrey62@william...|     M|IT technical supp...|  98219|\n",
      "+---+---------+-----------------+--------------------+------+--------------------+-------+\n",
      "only showing top 20 rows\n",
      "\n"
     ]
    }
   ],
   "source": [
    "features.toDF().show()"
   ]
  },
  {
   "cell_type": "markdown",
   "metadata": {},
   "source": [
    "#### Performing label encoding on the columns"
   ]
  },
  {
   "cell_type": "code",
   "execution_count": 105,
   "metadata": {
    "collapsed": false
   },
   "outputs": [],
   "source": [
    "from pyspark.sql.functions import UserDefinedFunction\n",
    "def labelForAge(s):\n",
    "    s = int(s)\n",
    "    if s <= 20:\n",
    "        return 0.0\n",
    "    elif s > 20 and s <= 40:\n",
    "        return 1.0\n",
    "    elif s > 40 and s <= 50:\n",
    "        return 2.0\n",
    "    elif s > 50 and s <= 60:\n",
    "        return 3.0\n",
    "    else:\n",
    "        return -1.0\n",
    "\n",
    "def labelForCity(s):\n",
    "    if len(s) <= 8:\n",
    "        return 0.0\n",
    "    elif s > 8 and s <= 10:\n",
    "        return 1.0\n",
    "    elif s > 10 and s <= 14:\n",
    "        return 2.0\n",
    "    elif s > 14 and s <= 20:\n",
    "        return 3.0\n",
    "    else:\n",
    "        return -1.0\n",
    "\n",
    "def labelForEmail(s):\n",
    "    if len(s) <= 5:\n",
    "        return 0.0\n",
    "    elif s > 5 and s <= 7:\n",
    "        return 1.0\n",
    "    elif s > 7 and s <= 9:\n",
    "        return 2.0\n",
    "    elif s > 9 and s <= 12:\n",
    "        return 3.0\n",
    "    else:\n",
    "        return -1.0\n",
    "\n",
    "def labelForGender(s):\n",
    "    if s == 'M':\n",
    "        return 0.0\n",
    "    elif s == 'F':\n",
    "        return 1.0\n",
    "    else:\n",
    "        return -1.0\n",
    "    \n",
    "def labelForJob(s):\n",
    "    s = s.lower()\n",
    "    if 'engineer' in s:\n",
    "        return 0.0\n",
    "    elif 'architect' in s:\n",
    "        return 1.0\n",
    "    elif 'analyst' in s:\n",
    "        return 2.0\n",
    "    elif 'designer' in s:\n",
    "        return 3.0\n",
    "    elif 'officer' in s:\n",
    "        return 4.0\n",
    "    elif 'teacher' in s:\n",
    "        return 5.0\n",
    "    elif 'it' in s:\n",
    "        return 6.0\n",
    "    else:\n",
    "        return -1.0   \n",
    "\n",
    "def labelForZipcode(s):\n",
    "    s = int(s)\n",
    "    if s <= 10000:\n",
    "        return 0.0\n",
    "    elif s > 10000 and s <= 30000:\n",
    "        return 1.0\n",
    "    elif s > 30000 and s <= 50000:\n",
    "        return 2.0\n",
    "    elif s > 50000 and s <= 70000:\n",
    "        return 3.0\n",
    "    elif s > 70000 and s <= 90000:\n",
    "        return 4.0\n",
    "    elif s > 90000:\n",
    "        return 5.0\n",
    "    else:\n",
    "        return -1.0\n",
    "\n",
    "label_Age = UserDefinedFunction(labelForAge, DoubleType())\n",
    "label_City = UserDefinedFunction(labelForCity, DoubleType())\n",
    "label_Email = UserDefinedFunction(labelForEmail, DoubleType())\n",
    "label_Gender = UserDefinedFunction(labelForGender, DoubleType())\n",
    "label_Job = UserDefinedFunction(labelForJob, DoubleType())\n",
    "label_Zipcode = UserDefinedFunction(labelForZipcode, DoubleType())\n",
    "\n",
    "features_df = features.toDF()\n",
    "labeledData = features_df.select(label_Age(features_df.age).alias('age_label'),\\\n",
    "                              label_City(features_df.city).alias('city_label'),\\\n",
    "                              label_Email(features_df.email).alias('email_label'),\\\n",
    "                              label_Gender(features_df.gender).alias('gender_label'),\\\n",
    "                              label_Job(features_df.job).alias('job_label'),\\\n",
    "                              label_Zipcode(features_df.zipcode).alias('zipcode_label'),\\\n",
    "                              features_df.behaviour)"
   ]
  },
  {
   "cell_type": "code",
   "execution_count": 106,
   "metadata": {
    "collapsed": false
   },
   "outputs": [
    {
     "data": {
      "text/plain": [
       "[('age_label', 'double'),\n",
       " ('city_label', 'double'),\n",
       " ('email_label', 'double'),\n",
       " ('gender_label', 'double'),\n",
       " ('job_label', 'double'),\n",
       " ('zipcode_label', 'double'),\n",
       " ('behaviour', 'string')]"
      ]
     },
     "execution_count": 106,
     "metadata": {},
     "output_type": "execute_result"
    }
   ],
   "source": [
    "labeledData.dtypes"
   ]
  },
  {
   "cell_type": "markdown",
   "metadata": {},
   "source": [
    "#### This is final labeled data, we are ready to train the model now"
   ]
  },
  {
   "cell_type": "code",
   "execution_count": 107,
   "metadata": {
    "collapsed": false
   },
   "outputs": [
    {
     "name": "stdout",
     "output_type": "stream",
     "text": [
      "+---------+----------+-----------+------------+---------+-------------+---------+\n",
      "|age_label|city_label|email_label|gender_label|job_label|zipcode_label|behaviour|\n",
      "+---------+----------+-----------+------------+---------+-------------+---------+\n",
      "|3.0      |-1.0      |-1.0       |0.0         |-1.0     |1.0          |POSITIVE |\n",
      "|3.0      |-1.0      |-1.0       |0.0         |-1.0     |4.0          |POSITIVE |\n",
      "|0.0      |-1.0      |-1.0       |1.0         |2.0      |2.0          |POSITIVE |\n",
      "|3.0      |-1.0      |-1.0       |0.0         |-1.0     |3.0          |NEGATIVE |\n",
      "|1.0      |0.0       |-1.0       |1.0         |0.0      |3.0          |POSITIVE |\n",
      "+---------+----------+-----------+------------+---------+-------------+---------+\n",
      "only showing top 5 rows\n",
      "\n"
     ]
    }
   ],
   "source": [
    "labeledData.show(5, False)"
   ]
  },
  {
   "cell_type": "code",
   "execution_count": 108,
   "metadata": {
    "collapsed": false
   },
   "outputs": [],
   "source": [
    "cols_new = ['age_label', 'city_label', 'email_label', 'gender_label', 'job_label', 'zipcode_label']\n",
    "assembler_features = VectorAssembler(inputCols=cols_new, outputCol='features')\n",
    "labelIndexer = StringIndexer(inputCol='behaviour', outputCol=\"label\")\n",
    "tmp = [assembler_features, labelIndexer]\n",
    "pipeline = Pipeline(stages=tmp)"
   ]
  },
  {
   "cell_type": "markdown",
   "metadata": {},
   "source": [
    "#### Splitting our data into training and test data. 80%-20%"
   ]
  },
  {
   "cell_type": "code",
   "execution_count": 109,
   "metadata": {
    "collapsed": false
   },
   "outputs": [
    {
     "name": "stdout",
     "output_type": "stream",
     "text": [
      "('Distribution of Pos and Neg in trainingData is: ', [Row(label=1.0, count=39616), Row(label=0.0, count=40562)])\n"
     ]
    }
   ],
   "source": [
    "allData = pipeline.fit(labeledData).transform(labeledData)\n",
    "allData.cache()\n",
    "trainingData, testData = allData.randomSplit([0.8,0.2], seed=0) # need to ensure same split for each time\n",
    "print(\"Distribution of Pos and Neg in trainingData is: \", trainingData.groupBy(\"label\").count().take(3))"
   ]
  },
  {
   "cell_type": "markdown",
   "metadata": {},
   "source": [
    "#### Training the model now"
   ]
  },
  {
   "cell_type": "code",
   "execution_count": 111,
   "metadata": {
    "collapsed": true
   },
   "outputs": [],
   "source": [
    "rf = RF(labelCol='label', featuresCol='features',numTrees=200)\n",
    "fit = rf.fit(trainingData)\n",
    "transformed = fit.transform(testData)"
   ]
  },
  {
   "cell_type": "markdown",
   "metadata": {},
   "source": [
    "#### Model training is done. following table shows features, label, prediction, probability and rawPrediction of model"
   ]
  },
  {
   "cell_type": "code",
   "execution_count": 112,
   "metadata": {
    "collapsed": false
   },
   "outputs": [
    {
     "name": "stdout",
     "output_type": "stream",
     "text": [
      "+---------+----------+-----------+------------+---------+-------------+---------+----------------------------+-----+--------------------------------------+----------------------------------------+----------+\n",
      "|age_label|city_label|email_label|gender_label|job_label|zipcode_label|behaviour|features                    |label|rawPrediction                         |probability                             |prediction|\n",
      "+---------+----------+-----------+------------+---------+-------------+---------+----------------------------+-----+--------------------------------------+----------------------------------------+----------+\n",
      "|3.0      |-1.0      |-1.0       |0.0         |-1.0     |1.0          |POSITIVE |[3.0,-1.0,-1.0,0.0,-1.0,1.0]|0.0  |[101.61328658886309,98.38671341113692]|[0.5080664329443154,0.49193356705568464]|0.0       |\n",
      "|3.0      |-1.0      |-1.0       |0.0         |-1.0     |3.0          |POSITIVE |[3.0,-1.0,-1.0,0.0,-1.0,3.0]|0.0  |[101.80838855976837,98.19161144023165]|[0.5090419427988419,0.4909580572011582] |0.0       |\n",
      "|1.0      |0.0       |-1.0       |1.0         |1.0      |3.0          |POSITIVE |[1.0,0.0,-1.0,1.0,1.0,3.0]  |0.0  |[97.08257039272927,102.91742960727075]|[0.4854128519636463,0.5145871480363537] |1.0       |\n",
      "|1.0      |-1.0      |-1.0       |0.0         |-1.0     |2.0          |POSITIVE |[1.0,-1.0,-1.0,0.0,-1.0,2.0]|0.0  |[101.71722014054762,98.2827798594524] |[0.508586100702738,0.4914138992972619]  |0.0       |\n",
      "|3.0      |-1.0      |-1.0       |1.0         |-1.0     |4.0          |NEGATIVE |[3.0,-1.0,-1.0,1.0,-1.0,4.0]|1.0  |[99.52382578049432,100.47617421950567]|[0.4976191289024716,0.5023808710975284] |1.0       |\n",
      "+---------+----------+-----------+------------+---------+-------------+---------+----------------------------+-----+--------------------------------------+----------------------------------------+----------+\n",
      "only showing top 5 rows\n",
      "\n"
     ]
    }
   ],
   "source": [
    "transformed.show(5, False)"
   ]
  },
  {
   "cell_type": "markdown",
   "metadata": {},
   "source": [
    "#### Calculating the ROC score now"
   ]
  },
  {
   "cell_type": "code",
   "execution_count": 113,
   "metadata": {
    "collapsed": false
   },
   "outputs": [
    {
     "name": "stdout",
     "output_type": "stream",
     "text": [
      "('The ROC score is (@numTrees=200): ', 0.5013822034903597)\n"
     ]
    }
   ],
   "source": [
    "from pyspark.mllib.evaluation import BinaryClassificationMetrics as metric\n",
    "results = transformed.select(['probability', 'label'])\n",
    " \n",
    "results_collect = results.collect()\n",
    "results_list = [(float(i[0][0]), 1.0-float(i[1])) for i in results_collect]\n",
    "scoreAndLabels = sc.parallelize(results_list)\n",
    " \n",
    "metrics = metric(scoreAndLabels)\n",
    "print(\"The ROC score is (@numTrees=200): \", metrics.areaUnderROC)"
   ]
  },
  {
   "cell_type": "markdown",
   "metadata": {},
   "source": [
    "### Now, plotting the distributions of our predictions"
   ]
  },
  {
   "cell_type": "code",
   "execution_count": 114,
   "metadata": {
    "collapsed": false
   },
   "outputs": [
    {
     "data": {
      "image/png": "[encoded data removed]",
      "text/plain": [
       "<matplotlib.figure.Figure at 0x109e3df50>"
      ]
     },
     "metadata": {},
     "output_type": "display_data"
    },
    {
     "data": {
      "image/png": "[encoded data removed]",
      "text/plain": [
       "<matplotlib.figure.Figure at 0x109e25910>"
      ]
     },
     "metadata": {},
     "output_type": "display_data"
    }
   ],
   "source": [
    "all_probs = transformed.select(\"probability\").collect()\n",
    "pos_probs = [i[0][0] for i in all_probs]\n",
    "neg_probs = [i[0][1] for i in all_probs]\n",
    " \n",
    "from matplotlib import pyplot as plt\n",
    "%matplotlib inline\n",
    " \n",
    "# pos\n",
    "plt.hist(pos_probs, 50, normed=1, facecolor='green', alpha=0.75)\n",
    "plt.xlabel('predicted_values')\n",
    "plt.ylabel('Counts')\n",
    "plt.title('Probabilities for positive cases')\n",
    "plt.grid(True)\n",
    "plt.show()\n",
    " \n",
    "# neg\n",
    "plt.hist(neg_probs, 50, normed=1, facecolor='green', alpha=0.75)\n",
    "plt.xlabel('predicted_values')\n",
    "plt.ylabel('Counts')\n",
    "plt.title('Probabilities for negative cases')\n",
    "plt.grid(True)\n",
    "plt.show()"
   ]
  },
  {
   "cell_type": "code",
   "execution_count": null,
   "metadata": {
    "collapsed": true
   },
   "outputs": [],
   "source": []
  }
 ],
 "metadata": {
  "kernelspec": {
   "display_name": "Python 2",
   "language": "python",
   "name": "python2"
  },
  "language_info": {
   "codemirror_mode": {
    "name": "ipython",
    "version": 2
   },
   "file_extension": ".py",
   "mimetype": "text/x-python",
   "name": "python",
   "nbconvert_exporter": "python",
   "pygments_lexer": "ipython2",
   "version": "2.7.11"
  }
 },
 "nbformat": 4,
 "nbformat_minor": 2
}
