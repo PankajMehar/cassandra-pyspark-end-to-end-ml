{
 "cells": [
  {
   "cell_type": "markdown",
   "metadata": {},
   "source": [
    "### Some initial setup for Spark to access Cassandra tables"
   ]
  },
  {
   "cell_type": "code",
   "execution_count": 2,
   "metadata": {
    "collapsed": true
   },
   "outputs": [],
   "source": [
    "import json\n",
    "import time\n",
    "import pytz\n",
    "import traceback\n",
    "import time_uuid\n",
    "from pytz import timezone\n",
    "from datetime import datetime\n",
    "from pyspark.sql import types\n",
    "from pyspark.sql.types import *\n",
    "from pyspark.sql.functions import *\n",
    "from pyspark.sql import SQLContext, Row\n",
    "from pyspark import SparkContext, SparkConf\n",
    "from config import *"
   ]
  },
  {
   "cell_type": "code",
   "execution_count": 3,
   "metadata": {
    "collapsed": true
   },
   "outputs": [],
   "source": [
    "sc.stop()"
   ]
  },
  {
   "cell_type": "code",
   "execution_count": 4,
   "metadata": {
    "collapsed": true
   },
   "outputs": [],
   "source": [
    "conf = SparkConf()\\\n",
    "    .setAppName(APPNAME)\\\n",
    "    .setMaster(MASTER)\\\n",
    "    .set(\"spark.cassandra.connection.host\", CASSANDRA_HOST)\\\n",
    "    .set(\"spark.cassandra.connection.port\", CASSANDRA_PORT)\\\n",
    "    .set(\"spark.cassandra.auth.username\", CASSANDRA_USERNAME)\\\n",
    "    .set(\"spark.cassandra.auth.password\", CASSANDRA_PASSWORD)"
   ]
  },
  {
   "cell_type": "code",
   "execution_count": 5,
   "metadata": {
    "collapsed": true
   },
   "outputs": [],
   "source": [
    "sc = SparkContext(MASTER, APPNAME, conf=conf)\n",
    "sqlContext = SQLContext(sc)"
   ]
  },
  {
   "cell_type": "code",
   "execution_count": 6,
   "metadata": {
    "collapsed": false
   },
   "outputs": [
    {
     "data": {
      "text/plain": [
       "DataFrame[]"
      ]
     },
     "execution_count": 6,
     "metadata": {},
     "output_type": "execute_result"
    }
   ],
   "source": [
    "sqlContext.sql(\"\"\"CREATE TEMPORARY TABLE %s \\\n",
    "                  USING org.apache.spark.sql.cassandra \\\n",
    "                  OPTIONS ( table \"%s\", \\\n",
    "                            keyspace \"%s\", \\\n",
    "                            cluster \"Test Cluster\", \\\n",
    "                            pushdown \"true\") \\\n",
    "              \"\"\" % (TABLE_EDGES, TABLE_EDGES, KEYSPACE))\n",
    "\n",
    "sqlContext.sql(\"\"\"CREATE TEMPORARY TABLE %s \\\n",
    "                  USING org.apache.spark.sql.cassandra \\\n",
    "                  OPTIONS ( table \"%s\", \\\n",
    "                            keyspace \"%s\", \\\n",
    "                            cluster \"Test Cluster\", \\\n",
    "                            pushdown \"true\") \\\n",
    "              \"\"\" % (TABLE_VERTICES, TABLE_VERTICES, KEYSPACE))"
   ]
  },
  {
   "cell_type": "markdown",
   "metadata": {},
   "source": [
    "### Following are the tables available to query from Pyspark"
   ]
  },
  {
   "cell_type": "code",
   "execution_count": 7,
   "metadata": {
    "collapsed": false
   },
   "outputs": [
    {
     "name": "stdout",
     "output_type": "stream",
     "text": [
      "graph_edges\n",
      "graph_vertices\n"
     ]
    }
   ],
   "source": [
    "print TABLE_EDGES\n",
    "print TABLE_VERTICES"
   ]
  },
  {
   "cell_type": "markdown",
   "metadata": {},
   "source": [
    "### Some queries on the table \"graph_edges\""
   ]
  },
  {
   "cell_type": "code",
   "execution_count": 12,
   "metadata": {
    "collapsed": false
   },
   "outputs": [
    {
     "name": "stdout",
     "output_type": "stream",
     "text": [
      "+-------------------+--------------------+----------------+------------+------------+-------+-------+-------------------+\n",
      "|comment_mobile_orig|          updated_at|comment_duration|comment_type|contact_name|    dst|    src|tagged_contact_name|\n",
      "+-------------------+--------------------+----------------+------------+------------+-------+-------+-------------------+\n",
      "|         8981846923|2017-02-12 09:06:...|              39|       Type4| Lisa Wilson|177_322| 92_316|     Candice Tucker|\n",
      "|         8981846923|2017-01-18 12:15:...|              39|       Type4|Mike Jenkins|177_322| 92_316|      Anne Mckinney|\n",
      "|         8981846923|2016-09-21 20:08:...|              39|       Type4| Bryan Salas|177_322| 92_316|     Brittany Lucas|\n",
      "|         8981846923|2016-06-13 14:02:...|              39|       Type4| Robert Bond|177_322| 92_316|   Christine Howard|\n",
      "|         7754838671|2017-02-22 18:01:...|              50|        Spam|Shawn Pierce|466_446|145_362|          John Pugh|\n",
      "+-------------------+--------------------+----------------+------------+------------+-------+-------+-------------------+\n",
      "\n"
     ]
    }
   ],
   "source": [
    "sqlContext.sql('SELECT * FROM graph_edges LIMIT 5').show()"
   ]
  },
  {
   "cell_type": "code",
   "execution_count": 13,
   "metadata": {
    "collapsed": false
   },
   "outputs": [
    {
     "name": "stdout",
     "output_type": "stream",
     "text": [
      "+-------------------+-----+\n",
      "|comment_mobile_orig|count|\n",
      "+-------------------+-----+\n",
      "|         8904758624|    4|\n",
      "|         7316154827|    4|\n",
      "|         7361088427|    4|\n",
      "|         9631179824|    4|\n",
      "|         8722552424|    4|\n",
      "+-------------------+-----+\n",
      "\n"
     ]
    }
   ],
   "source": [
    "sqlContext.sql('SELECT comment_mobile_orig, COUNT(*) AS count FROM graph_edges GROUP BY comment_mobile_orig ORDER BY count DESC LIMIT 5').show()"
   ]
  },
  {
   "cell_type": "markdown",
   "metadata": {},
   "source": [
    "### Some queries on the table \"graph_vertices\""
   ]
  },
  {
   "cell_type": "code",
   "execution_count": 14,
   "metadata": {
    "collapsed": false
   },
   "outputs": [
    {
     "name": "stdout",
     "output_type": "stream",
     "text": [
      "+-------+------------+\n",
      "|     id|mobilenumber|\n",
      "+-------+------------+\n",
      "|185_376|  8990126137|\n",
      "|494_383|  8767285455|\n",
      "|397_235|  8676721437|\n",
      "|251_293|  8710790829|\n",
      "| 64_463|  7134881438|\n",
      "+-------+------------+\n",
      "\n"
     ]
    }
   ],
   "source": [
    "sqlContext.sql('SELECT * FROM graph_vertices LIMIT 5').show()"
   ]
  },
  {
   "cell_type": "code",
   "execution_count": 15,
   "metadata": {
    "collapsed": false
   },
   "outputs": [
    {
     "name": "stdout",
     "output_type": "stream",
     "text": [
      "+------------+-----+\n",
      "|mobilenumber|count|\n",
      "+------------+-----+\n",
      "|  7913279024|    1|\n",
      "|  8360734624|    1|\n",
      "|  7235858824|    1|\n",
      "|  9031885427|    1|\n",
      "|  9575982027|    1|\n",
      "+------------+-----+\n",
      "\n"
     ]
    }
   ],
   "source": [
    "sqlContext.sql('SELECT mobilenumber, COUNT(*) AS count FROM graph_vertices GROUP BY mobilenumber ORDER BY count DESC LIMIT 5').show()"
   ]
  },
  {
   "cell_type": "code",
   "execution_count": null,
   "metadata": {
    "collapsed": true
   },
   "outputs": [],
   "source": []
  }
 ],
 "metadata": {
  "kernelspec": {
   "display_name": "Python 2",
   "language": "python",
   "name": "python2"
  },
  "language_info": {
   "codemirror_mode": {
    "name": "ipython",
    "version": 2
   },
   "file_extension": ".py",
   "mimetype": "text/x-python",
   "name": "python",
   "nbconvert_exporter": "python",
   "pygments_lexer": "ipython2",
   "version": "2.7.11"
  }
 },
 "nbformat": 4,
 "nbformat_minor": 2
}
