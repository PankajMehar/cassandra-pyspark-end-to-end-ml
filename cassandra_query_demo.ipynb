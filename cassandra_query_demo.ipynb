{
 "cells": [
  {
   "cell_type": "code",
   "execution_count": 1,
   "metadata": {
    "collapsed": true
   },
   "outputs": [],
   "source": [
    "from config import *\n",
    "from cassandra.cluster import Cluster\n",
    "from cassandra.auth import PlainTextAuthProvider\n",
    "import uuid\n",
    "import sys"
   ]
  },
  {
   "cell_type": "code",
   "execution_count": 3,
   "metadata": {
    "collapsed": false
   },
   "outputs": [],
   "source": [
    "auth_provider = PlainTextAuthProvider(\n",
    "                  username=CASSANDRA_USERNAME,\n",
    "                  password=CASSANDRA_PASSWORD)\n",
    "\n",
    "cluster = Cluster(\n",
    "            contact_points = [CASSANDRA_HOST],\n",
    "            port = CASSANDRA_PORT,\n",
    "            auth_provider = auth_provider)\n",
    "\n",
    "session = cluster.connect(KEYSPACE)"
   ]
  },
  {
   "cell_type": "code",
   "execution_count": 22,
   "metadata": {
    "collapsed": true
   },
   "outputs": [],
   "source": [
    "def execute_and_print(query):\n",
    "    rows = session.execute(query)\n",
    "    for row in rows:\n",
    "        for c in row:\n",
    "            print c\n",
    "        print \"\""
   ]
  },
  {
   "cell_type": "code",
   "execution_count": 24,
   "metadata": {
    "collapsed": false
   },
   "outputs": [
    {
     "name": "stdout",
     "output_type": "stream",
     "text": [
      "2002-05-08\n",
      "22d37910-05c4-11e7-80fb-acbc32780117\n",
      "EventName6127\n",
      "{\"city\": \"South Rebeccaton\", \"name\": \"Robert Thompson\", \"gender\": \"M\", \"created_at\": \"2015-05-24 16:57:20\", \"zipcode\": \"93802\", \"age\": 34, \"job\": \"Surveyor, hydrographic\", \"email\": \"richarddelgado@howard.net\"}\n",
      "\n",
      "2002-05-08\n",
      "09a238dc-05c4-11e7-8b6f-acbc32780117\n",
      "EventName8178\n",
      "{\"city\": \"Katherinebury\", \"name\": \"Cheryl Henderson\", \"gender\": \"M\", \"created_at\": \"2016-05-27 22:33:02\", \"zipcode\": \"94945\", \"age\": 43, \"job\": \"Tax adviser\", \"email\": \"marc77@gmail.com\"}\n",
      "\n",
      "2002-05-08\n",
      "c4090fbe-05c3-11e7-b28b-acbc32780117\n",
      "EventName3038\n",
      "{\"city\": \"Perezbury\", \"name\": \"Carlos Sanders\", \"gender\": \"F\", \"created_at\": \"2015-08-20 21:39:42\", \"zipcode\": \"81257\", \"age\": 33, \"job\": \"Designer, fashion/clothing\", \"email\": \"christopher73@lambert.com\"}\n",
      "\n"
     ]
    }
   ],
   "source": [
    "execute_and_print('SELECT * FROM events_store LIMIT 3')"
   ]
  },
  {
   "cell_type": "code",
   "execution_count": 25,
   "metadata": {
    "collapsed": false
   },
   "outputs": [
    {
     "name": "stdout",
     "output_type": "stream",
     "text": [
      "2002-05-08\n",
      "\n",
      "1989-03-21\n",
      "\n",
      "1994-11-29\n",
      "\n",
      "1990-11-11\n",
      "\n",
      "1972-08-07\n",
      "\n"
     ]
    }
   ],
   "source": [
    "execute_and_print('SELECT DISTINCT bucket_id FROM events_store LIMIT 5')"
   ]
  },
  {
   "cell_type": "code",
   "execution_count": 26,
   "metadata": {
    "collapsed": false
   },
   "outputs": [
    {
     "name": "stdout",
     "output_type": "stream",
     "text": [
      "{\"city\": \"Gonzalesborough\", \"name\": \"Erica Reed\", \"gender\": \"M\", \"created_at\": \"2014-08-24 05:29:57\", \"zipcode\": \"97999\", \"age\": 29, \"job\": \"Engineer, electrical\", \"email\": \"usantana@cannon-barry.com\"}\n",
      "\n",
      "{\"city\": \"Newtonfurt\", \"name\": \"Michael Dixon\", \"gender\": \"F\", \"created_at\": \"2015-04-20 16:37:53\", \"zipcode\": \"89624\", \"age\": 22, \"job\": \"Optician, dispensing\", \"email\": \"meaganbright@hotmail.com\"}\n",
      "\n",
      "{\"city\": \"West Kellyfurt\", \"name\": \"Melinda Bridges\", \"gender\": \"M\", \"created_at\": \"2015-12-16 19:50:37\", \"zipcode\": \"24766\", \"age\": 22, \"job\": \"Transport planner\", \"email\": \"heidipena@yahoo.com\"}\n",
      "\n"
     ]
    }
   ],
   "source": [
    "execute_and_print(\"SELECT payload FROM events_store where bucket_id = '1989-03-21'\")"
   ]
  },
  {
   "cell_type": "code",
   "execution_count": 27,
   "metadata": {
    "collapsed": false
   },
   "outputs": [
    {
     "name": "stdout",
     "output_type": "stream",
     "text": [
      "2002-05-08\n",
      "148917256141028000\n",
      "34\n",
      "South Rebeccaton\n",
      "2015-05-24 11:27:20\n",
      "richarddelgado@howard.net\n",
      "22d37910-05c4-11e7-80fb-acbc32780117\n",
      "EventName6127\n",
      "M\n",
      "Surveyor, hydrographic\n",
      "Robert Thompson\n",
      "93802\n",
      "\n"
     ]
    }
   ],
   "source": [
    "execute_and_print(\"SELECT * FROM queryable_users LIMIT 1\")"
   ]
  },
  {
   "cell_type": "code",
   "execution_count": 28,
   "metadata": {
    "collapsed": false
   },
   "outputs": [
    {
     "name": "stdout",
     "output_type": "stream",
     "text": [
      "2002-05-08\n",
      "148917256141028000\n",
      "34\n",
      "South Rebeccaton\n",
      "2015-05-24 11:27:20\n",
      "richarddelgado@howard.net\n",
      "22d37910-05c4-11e7-80fb-acbc32780117\n",
      "EventName6127\n",
      "M\n",
      "Surveyor, hydrographic\n",
      "Robert Thompson\n",
      "93802\n",
      "\n",
      "2002-05-08\n",
      "148917251914447008\n",
      "43\n",
      "Katherinebury\n",
      "2016-05-27 17:03:02\n",
      "marc77@gmail.com\n",
      "09a238dc-05c4-11e7-8b6f-acbc32780117\n",
      "EventName8178\n",
      "M\n",
      "Tax adviser\n",
      "Cheryl Henderson\n",
      "94945\n",
      "\n",
      "2002-05-08\n",
      "148917240237792608\n",
      "33\n",
      "Perezbury\n",
      "2015-08-20 16:09:42\n",
      "christopher73@lambert.com\n",
      "c4090fbe-05c3-11e7-b28b-acbc32780117\n",
      "EventName3038\n",
      "F\n",
      "Designer, fashion/clothing\n",
      "Carlos Sanders\n",
      "81257\n",
      "\n"
     ]
    }
   ],
   "source": [
    "execute_and_print(\"SELECT * FROM queryable_users where bucket_id = '2002-05-08' LIMIT 5\")"
   ]
  },
  {
   "cell_type": "code",
   "execution_count": 30,
   "metadata": {
    "collapsed": false
   },
   "outputs": [
    {
     "name": "stdout",
     "output_type": "stream",
     "text": [
      "2002-05-08\n",
      "148917240237792608\n",
      "33\n",
      "Perezbury\n",
      "2015-08-20 16:09:42\n",
      "christopher73@lambert.com\n",
      "c4090fbe-05c3-11e7-b28b-acbc32780117\n",
      "EventName3038\n",
      "F\n",
      "Designer, fashion/clothing\n",
      "Carlos Sanders\n",
      "81257\n",
      "\n"
     ]
    }
   ],
   "source": [
    "execute_and_print(\"SELECT * FROM queryable_users where bucket_id = '2002-05-08' and email = 'christopher73@lambert.com'\")"
   ]
  },
  {
   "cell_type": "code",
   "execution_count": null,
   "metadata": {
    "collapsed": true
   },
   "outputs": [],
   "source": []
  }
 ],
 "metadata": {
  "kernelspec": {
   "display_name": "Python 2",
   "language": "python",
   "name": "python2"
  },
  "language_info": {
   "codemirror_mode": {
    "name": "ipython",
    "version": 2
   },
   "file_extension": ".py",
   "mimetype": "text/x-python",
   "name": "python",
   "nbconvert_exporter": "python",
   "pygments_lexer": "ipython2",
   "version": "2.7.11"
  }
 },
 "nbformat": 4,
 "nbformat_minor": 2
}
