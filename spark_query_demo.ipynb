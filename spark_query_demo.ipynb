{
 "cells": [
  {
   "cell_type": "markdown",
   "metadata": {},
   "source": [
    "### Some initial setup for Spark to access Cassandra tables"
   ]
  },
  {
   "cell_type": "code",
   "execution_count": 1,
   "metadata": {
    "collapsed": true
   },
   "outputs": [],
   "source": [
    "import json\n",
    "import time\n",
    "import pytz\n",
    "import traceback\n",
    "import time_uuid\n",
    "from pytz import timezone\n",
    "from datetime import datetime\n",
    "from pyspark.sql import types\n",
    "from pyspark.sql.types import *\n",
    "from pyspark.sql.functions import *\n",
    "from pyspark.sql import SQLContext, Row\n",
    "from pyspark import SparkContext, SparkConf\n",
    "from config import *"
   ]
  },
  {
   "cell_type": "code",
   "execution_count": 2,
   "metadata": {
    "collapsed": true
   },
   "outputs": [],
   "source": [
    "sc.stop()"
   ]
  },
  {
   "cell_type": "code",
   "execution_count": 3,
   "metadata": {
    "collapsed": true
   },
   "outputs": [],
   "source": [
    "conf = SparkConf()\\\n",
    "    .setAppName(APPNAME)\\\n",
    "    .setMaster(MASTER)\\\n",
    "    .set(\"spark.cassandra.connection.host\", CASSANDRA_HOST)\\\n",
    "    .set(\"spark.cassandra.connection.port\", CASSANDRA_PORT)\\\n",
    "    .set(\"spark.cassandra.auth.username\", CASSANDRA_USERNAME)\\\n",
    "    .set(\"spark.cassandra.auth.password\", CASSANDRA_PASSWORD)"
   ]
  },
  {
   "cell_type": "code",
   "execution_count": 4,
   "metadata": {
    "collapsed": true
   },
   "outputs": [],
   "source": [
    "sc = SparkContext(MASTER, APPNAME, conf=conf)\n",
    "sqlContext = SQLContext(sc)"
   ]
  },
  {
   "cell_type": "code",
   "execution_count": 5,
   "metadata": {
    "collapsed": false
   },
   "outputs": [
    {
     "data": {
      "text/plain": [
       "DataFrame[]"
      ]
     },
     "execution_count": 5,
     "metadata": {},
     "output_type": "execute_result"
    }
   ],
   "source": [
    "sqlContext.sql(\"\"\"CREATE TEMPORARY TABLE %s \\\n",
    "                  USING org.apache.spark.sql.cassandra \\\n",
    "                  OPTIONS ( table \"%s\", \\\n",
    "                            keyspace \"%s\", \\\n",
    "                            cluster \"Test Cluster\", \\\n",
    "                            pushdown \"true\") \\\n",
    "              \"\"\" % (TABLE_EVENT_STORE, TABLE_EVENT_STORE, KEYSPACE))\n",
    "\n",
    "sqlContext.sql(\"\"\"CREATE TEMPORARY TABLE %s \\\n",
    "                  USING org.apache.spark.sql.cassandra \\\n",
    "                  OPTIONS ( table \"%s\", \\\n",
    "                            keyspace \"%s\", \\\n",
    "                            cluster \"Test Cluster\", \\\n",
    "                            pushdown \"true\") \\\n",
    "              \"\"\" % (TABLE_QUERYABLE, TABLE_QUERYABLE, KEYSPACE))"
   ]
  },
  {
   "cell_type": "markdown",
   "metadata": {},
   "source": [
    "### Following are the tables available to query from Pyspark"
   ]
  },
  {
   "cell_type": "code",
   "execution_count": 11,
   "metadata": {
    "collapsed": false
   },
   "outputs": [
    {
     "name": "stdout",
     "output_type": "stream",
     "text": [
      "events_store\n",
      "queryable_users\n"
     ]
    }
   ],
   "source": [
    "print TABLE_EVENT_STORE\n",
    "print TABLE_QUERYABLE"
   ]
  },
  {
   "cell_type": "markdown",
   "metadata": {},
   "source": [
    "### Some queries on the table \"events_store\""
   ]
  },
  {
   "cell_type": "code",
   "execution_count": 14,
   "metadata": {
    "collapsed": false
   },
   "outputs": [
    {
     "name": "stdout",
     "output_type": "stream",
     "text": [
      "+----------+--------------------+-------------+--------------------+\n",
      "| bucket_id|            event_id|   event_name|             payload|\n",
      "+----------+--------------------+-------------+--------------------+\n",
      "|2000-11-27|08aad1b4-05c4-11e...|EventName6619|{\"city\": \"Port Sh...|\n",
      "|2000-11-27|fcb337b6-05c3-11e...|EventName6649|{\"city\": \"Starkfu...|\n",
      "|2000-11-27|d1ef2850-05c3-11e...|EventName6921|{\"city\": \"North A...|\n",
      "|2000-11-27|b5bfdbfa-05c3-11e...|EventName3289|{\"city\": \"Kimberl...|\n",
      "|2000-11-27|9ec366da-05c3-11e...|EventName1161|{\"city\": \"New Mic...|\n",
      "+----------+--------------------+-------------+--------------------+\n",
      "\n"
     ]
    }
   ],
   "source": [
    "sqlContext.sql('SELECT bucket_id, CAST(event_id AS string), event_name, payload FROM events_store LIMIT 5').show()"
   ]
  },
  {
   "cell_type": "code",
   "execution_count": 24,
   "metadata": {
    "collapsed": false
   },
   "outputs": [
    {
     "name": "stdout",
     "output_type": "stream",
     "text": [
      "+----------+-----+\n",
      "| bucket_id|count|\n",
      "+----------+-----+\n",
      "|1984-02-13|   16|\n",
      "|1992-11-26|   16|\n",
      "|1983-10-13|   16|\n",
      "|1992-02-28|   16|\n",
      "|1989-06-11|   15|\n",
      "+----------+-----+\n",
      "\n"
     ]
    }
   ],
   "source": [
    "sqlContext.sql('SELECT bucket_id, COUNT(*) AS count FROM events_store GROUP BY bucket_id ORDER BY count DESC LIMIT 5').show()"
   ]
  },
  {
   "cell_type": "markdown",
   "metadata": {},
   "source": [
    "### Some queries on the table \"queryable_users\""
   ]
  },
  {
   "cell_type": "code",
   "execution_count": 16,
   "metadata": {
    "collapsed": false
   },
   "outputs": [
    {
     "name": "stdout",
     "output_type": "stream",
     "text": [
      "+--------------------+--------------------+--------------------+------+-----------------+-------+---+\n",
      "|               email|                city|                 job|gender|             name|zipcode|age|\n",
      "+--------------------+--------------------+--------------------+------+-----------------+-------+---+\n",
      "|bryantjill@yahoo.com|    Port Shellyshire|Engineer, civil (...|     M|      Sheryl Ford|  50226| 43|\n",
      "|amandawilson@will...|           Starkfurt|Corporate investm...|     F|  Joseph Mcintosh|  04382| 58|\n",
      "|   igreene@yahoo.com|North Alexandermouth|Environmental man...|     F|  Christian Drake|  65622| 40|\n",
      "|christopherthomps...|         Kimberlyton|Medical laborator...|     M|Christopher Green|  19452| 23|\n",
      "|raymondmcintosh@h...|         New Michael|Radiographer, the...|     F|Stephanie Elliott|  03702| 30|\n",
      "+--------------------+--------------------+--------------------+------+-----------------+-------+---+\n",
      "\n"
     ]
    }
   ],
   "source": [
    "sqlContext.sql('SELECT email, city, job, gender, name, zipcode, age FROM queryable_users LIMIT 5').show()"
   ]
  },
  {
   "cell_type": "code",
   "execution_count": 19,
   "metadata": {
    "collapsed": false
   },
   "outputs": [
    {
     "name": "stdout",
     "output_type": "stream",
     "text": [
      "+-------------+-----+\n",
      "|   event_name|count|\n",
      "+-------------+-----+\n",
      "|EventName8278|   44|\n",
      "|EventName4703|   40|\n",
      "|EventName8275|   40|\n",
      "|EventName4401|   40|\n",
      "|EventName1381|   40|\n",
      "+-------------+-----+\n",
      "\n"
     ]
    }
   ],
   "source": [
    "sqlContext.sql('SELECT event_name, COUNT(*) AS count FROM queryable_users GROUP BY event_name ORDER BY count DESC LIMIT 5').show()"
   ]
  },
  {
   "cell_type": "code",
   "execution_count": 20,
   "metadata": {
    "collapsed": false
   },
   "outputs": [
    {
     "name": "stdout",
     "output_type": "stream",
     "text": [
      "+--------------------+-----+\n",
      "|                 job|count|\n",
      "+--------------------+-----+\n",
      "|Volunteer coordin...|  196|\n",
      "|Manufacturing eng...|  196|\n",
      "|Lecturer, further...|  194|\n",
      "|     Charity officer|  192|\n",
      "|Furniture conserv...|  192|\n",
      "+--------------------+-----+\n",
      "\n"
     ]
    }
   ],
   "source": [
    "sqlContext.sql('SELECT job, COUNT(*) AS count FROM queryable_users GROUP BY job ORDER BY count DESC LIMIT 5').show()"
   ]
  },
  {
   "cell_type": "code",
   "execution_count": 21,
   "metadata": {
    "collapsed": false
   },
   "outputs": [
    {
     "name": "stdout",
     "output_type": "stream",
     "text": [
      "+-------------------+-----+\n",
      "|              email|count|\n",
      "+-------------------+-----+\n",
      "|xmiller@hotmail.com|    9|\n",
      "|   fsmith@gmail.com|    9|\n",
      "| wsmith@hotmail.com|    9|\n",
      "| yjohnson@yahoo.com|    8|\n",
      "| abrown@hotmail.com|    8|\n",
      "+-------------------+-----+\n",
      "\n"
     ]
    }
   ],
   "source": [
    "sqlContext.sql('SELECT email, COUNT(*) AS count FROM queryable_users GROUP BY email ORDER BY count DESC LIMIT 5').show()"
   ]
  },
  {
   "cell_type": "code",
   "execution_count": 23,
   "metadata": {
    "collapsed": false
   },
   "outputs": [
    {
     "name": "stdout",
     "output_type": "stream",
     "text": [
      "+------------+--------------------+\n",
      "|        city|                 job|\n",
      "+------------+--------------------+\n",
      "|South Joseph|Education officer...|\n",
      "|     Carlton|Research scientis...|\n",
      "|   Erinville|Insurance risk su...|\n",
      "| South Scott|Administrator, sp...|\n",
      "|South Ronald|Designer, ceramic...|\n",
      "|Velezborough|Hydrographic surv...|\n",
      "|East Jeffery|Engineer, electro...|\n",
      "|  Griffinton|Print production ...|\n",
      "|  East Emily|Print production ...|\n",
      "+------------+--------------------+\n",
      "\n"
     ]
    }
   ],
   "source": [
    "sqlContext.sql('SELECT city, job FROM queryable_users WHERE email = \"xmiller@hotmail.com\"').show()"
   ]
  },
  {
   "cell_type": "code",
   "execution_count": 26,
   "metadata": {
    "collapsed": false
   },
   "outputs": [
    {
     "name": "stdout",
     "output_type": "stream",
     "text": [
      "+--------------------+--------------------+\n",
      "|               email|                 job|\n",
      "+--------------------+--------------------+\n",
      "|bryantjill@yahoo.com|Engineer, civil (...|\n",
      "|ian95@caldwell-su...|Engineer, production|\n",
      "|jeffreywarren@kan...|Engineer, civil (...|\n",
      "|marcglover@stark.com|Engineer, biomedical|\n",
      "|   jorge49@gmail.com|Engineer, agricul...|\n",
      "|jonathan23@jones.com|  Engineer, drilling|\n",
      "|spotter@stricklan...| Engineer, materials|\n",
      "|  wjimenez@yahoo.com|    Engineer, energy|\n",
      "+--------------------+--------------------+\n",
      "\n"
     ]
    }
   ],
   "source": [
    "sqlContext.sql('SELECT email, job FROM queryable_users WHERE job LIKE \"%Engineer%\" LIMIT 8').show()"
   ]
  },
  {
   "cell_type": "code",
   "execution_count": null,
   "metadata": {
    "collapsed": true
   },
   "outputs": [],
   "source": []
  }
 ],
 "metadata": {
  "kernelspec": {
   "display_name": "Python 2",
   "language": "python",
   "name": "python2"
  },
  "language_info": {
   "codemirror_mode": {
    "name": "ipython",
    "version": 2
   },
   "file_extension": ".py",
   "mimetype": "text/x-python",
   "name": "python",
   "nbconvert_exporter": "python",
   "pygments_lexer": "ipython2",
   "version": "2.7.11"
  }
 },
 "nbformat": 4,
 "nbformat_minor": 2
}
